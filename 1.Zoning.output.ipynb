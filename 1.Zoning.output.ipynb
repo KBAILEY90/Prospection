{
 "cells": [
  {
   "cell_type": "code",
   "execution_count": 1,
   "id": "2f84f5fa-d7ab-48e1-b6e9-3f37141c6d5d",
   "metadata": {
    "execution": {
     "iopub.execute_input": "2025-04-23T13:11:52.618031Z",
     "iopub.status.busy": "2025-04-23T13:11:52.618031Z",
     "iopub.status.idle": "2025-04-23T13:11:54.754527Z",
     "shell.execute_reply": "2025-04-23T13:11:54.754527Z"
    },
    "papermill": {
     "duration": 2.136496,
     "end_time": "2025-04-23T13:11:54.754527",
     "exception": false,
     "start_time": "2025-04-23T13:11:52.618031",
     "status": "completed"
    },
    "tags": []
   },
   "outputs": [],
   "source": [
    "import geopandas as gpd\n",
    "from urllib.parse import quote_plus\n",
    "\n",
    "def generate_google_maps_url(address, city):\n",
    "    base_url = \"https://www.google.com/maps/search/?api=1&query=\"\n",
    "    return base_url + quote_plus(f\"{address} {city}\")"
   ]
  },
  {
   "cell_type": "code",
   "execution_count": 2,
   "id": "09655752-87e4-4ed7-8532-6b667672789b",
   "metadata": {
    "execution": {
     "iopub.execute_input": "2025-04-23T13:11:54.831613Z",
     "iopub.status.busy": "2025-04-23T13:11:54.831613Z",
     "iopub.status.idle": "2025-04-23T13:11:59.267549Z",
     "shell.execute_reply": "2025-04-23T13:11:59.267549Z"
    },
    "papermill": {
     "duration": 4.48753,
     "end_time": "2025-04-23T13:11:59.267549",
     "exception": false,
     "start_time": "2025-04-23T13:11:54.780019",
     "status": "completed"
    },
    "tags": []
   },
   "outputs": [],
   "source": [
    "# Load GeoJSON datasets\n",
    "adresses = gpd.read_file(\"Adresses.geojson\")\n",
    "zonage = gpd.read_file(\"Zonage.geojson\")\n",
    "arrondissements = gpd.read_file(\"Arrondissements.geojson\")\n",
    "\n",
    "# Ensure all datasets use the same CRS\n",
    "adresses = adresses.to_crs(epsg=4326)\n",
    "zonage = zonage.to_crs(epsg=4326)\n",
    "arrondissements = arrondissements.to_crs(epsg=4326)\n",
    "\n",
    "zonage_habitation = zonage.loc[\n",
    "    (zonage['NO_ZONE'].str[:1] == 'H') | (zonage['NO_ZONE'].str[:2] == 'HZ')\n",
    "]\n",
    "\n",
    "# Perform spatial join to match addresses within zoning polygons\n",
    "joined_zonage = gpd.sjoin(adresses, zonage_habitation, predicate=\"within\", how=\"inner\")\n",
    "joined_zonage = joined_zonage.drop(columns=[\"index_right\"], errors=\"ignore\")\n",
    "\n",
    "# Perform spatial join to match addresses within boroughs\n",
    "joined = gpd.sjoin(joined_zonage, arrondissements, predicate=\"within\", how=\"left\")\n",
    "joined[\"RUE\"] = joined[\"TYPE_VOIE\"]+\" \"+joined[\"NOM_VOIE\"]\n",
    "\n",
    "# Select relevant columns to export\n",
    "joined_df = joined[[\n",
    "    \"ADRESSE\",\n",
    "    \"RUE\",\n",
    "    \"NO_ZONE\",\n",
    "    \"GRILLEUSAGE\",\n",
    "    \"NOM\"]].rename(columns={\"NOM\": \"ARRONDISSEMENT\"})\n",
    "\n",
    "joined_df[\"GMAPS_URL\"] = joined_df.apply(\n",
    "    lambda row: generate_google_maps_url(row[\"ADRESSE\"], row[\"ARRONDISSEMENT\"]), axis=1\n",
    ")\n",
    "\n",
    "joined_df.to_csv('Zonage.csv', index=False, encoding='utf-8-sig')"
   ]
  }
 ],
 "metadata": {
  "kernelspec": {
   "display_name": "Python 3 (ipykernel)",
   "language": "python",
   "name": "python3"
  },
  "language_info": {
   "codemirror_mode": {
    "name": "ipython",
    "version": 3
   },
   "file_extension": ".py",
   "mimetype": "text/x-python",
   "name": "python",
   "nbconvert_exporter": "python",
   "pygments_lexer": "ipython3",
   "version": "3.12.7"
  },
  "papermill": {
   "default_parameters": {},
   "duration": 8.313424,
   "end_time": "2025-04-23T13:11:59.531433",
   "environment_variables": {},
   "exception": null,
   "input_path": "1.Zoning.ipynb",
   "output_path": "1.Zoning.output.ipynb",
   "parameters": {},
   "start_time": "2025-04-23T13:11:51.218009",
   "version": "2.6.0"
  }
 },
 "nbformat": 4,
 "nbformat_minor": 5
}